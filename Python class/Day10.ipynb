{
 "cells": [
  {
   "cell_type": "code",
   "execution_count": null,
   "id": "dc9cfaaa",
   "metadata": {},
   "outputs": [],
   "source": [
    "fruits = ['apple','mango',\"Grapes\", \"orange\", \"avacado\"]\n",
    "for i,j in enumerate(fruits):\n",
    "    print(i,j)"
   ]
  },
  {
   "cell_type": "markdown",
   "id": "2a53ad07",
   "metadata": {},
   "source": [
    "Lists\n",
    "1. Mutable \n",
    "2. slower \n",
    "3. addition, removal, modification\n",
    "4. more built in function\n",
    "\n",
    "Tuples\n",
    "\n",
    "1. Immutable \n",
    "2. slower\n",
    "3. count, index, etc\n",
    "4. less built in function as compared to lists"
   ]
  },
  {
   "cell_type": "code",
   "execution_count": 5,
   "id": "d28a10d7",
   "metadata": {},
   "outputs": [
    {
     "name": "stdout",
     "output_type": "stream",
     "text": [
      "{1, 2, 3, 4, 5, 'q'}\n",
      "<class 'set'>\n"
     ]
    }
   ],
   "source": [
    "st = {1,2,3,'q',4,5,2,True}\n",
    "print(st)\n",
    "print(type(st))"
   ]
  },
  {
   "cell_type": "code",
   "execution_count": null,
   "id": "beb0e12d",
   "metadata": {},
   "outputs": [
    {
     "name": "stdout",
     "output_type": "stream",
     "text": [
      "set()\n",
      "<class 'set'>\n"
     ]
    }
   ],
   "source": [
    "# in the set we cannot remove the specific element from the set because it is not in order.\n",
    "\n",
    "st = set()\n",
    "print(st)\n",
    "print(type(st))"
   ]
  },
  {
   "cell_type": "code",
   "execution_count": 11,
   "id": "5088f431",
   "metadata": {},
   "outputs": [
    {
     "name": "stdout",
     "output_type": "stream",
     "text": [
      "1\n",
      "2\n",
      "3\n",
      "14\n",
      "5\n",
      "{1, 2, 3, 4, 5}\n"
     ]
    }
   ],
   "source": [
    "set1 = {1,2,3,4,5}\n",
    "\n",
    "for i in set1:\n",
    "    if i == 4:\n",
    "        i = 14\n",
    "    print(i)\n",
    "        \n",
    "print(set1)        "
   ]
  },
  {
   "cell_type": "code",
   "execution_count": 30,
   "id": "9f07260f",
   "metadata": {},
   "outputs": [
    {
     "name": "stdout",
     "output_type": "stream",
     "text": [
      "{'E', 'O', 'U', 'I', 'A'}\n"
     ]
    }
   ],
   "source": [
    "st1 = {1,2,3,4,5}\n",
    "st2 = {4,5,6,7,8}\n",
    "st3 = {9,10}\n",
    "st4 = {4,5}\n",
    "# print(st1.union(st2))\n",
    "# print(st1.intersection(st2))\n",
    "# print(st1.difference(st2))\n",
    "# print(st1.symmetric_difference(st2))\n",
    "# print(st1.issuperset(st4))\n",
    "# print(st1.issubset(st4))\n",
    "# print(st1.isdisjoint(st4))\n",
    "\n",
    "st = \"EDUCATION\"\n",
    "st_word = set(st)\n",
    "vowel = {'A','E','I','O','U'}\n",
    "\n",
    "print(st_word.intersection(vowel))\n"
   ]
  }
 ],
 "metadata": {
  "kernelspec": {
   "display_name": "Python 3",
   "language": "python",
   "name": "python3"
  },
  "language_info": {
   "codemirror_mode": {
    "name": "ipython",
    "version": 3
   },
   "file_extension": ".py",
   "mimetype": "text/x-python",
   "name": "python",
   "nbconvert_exporter": "python",
   "pygments_lexer": "ipython3",
   "version": "3.13.1"
  }
 },
 "nbformat": 4,
 "nbformat_minor": 5
}
