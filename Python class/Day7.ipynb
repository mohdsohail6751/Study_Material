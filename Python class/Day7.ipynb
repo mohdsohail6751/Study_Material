{
 "cells": [
  {
   "cell_type": "markdown",
   "id": "b805ddbe",
   "metadata": {},
   "source": [
    "# Range and Loops in python \n",
    "Range : it generate a sequence of numbers"
   ]
  },
  {
   "cell_type": "markdown",
   "id": "128e8b1d",
   "metadata": {},
   "source": [
    "syntax = range(start, stop, step)"
   ]
  },
  {
   "cell_type": "code",
   "execution_count": 3,
   "id": "b024b80a",
   "metadata": {},
   "outputs": [
    {
     "name": "stdout",
     "output_type": "stream",
     "text": [
      "[0, 1, 2, 3, 4, 5, 6, 7, 8, 9]\n",
      "[0, 1, 2, 3, 4, 5, 6, 7, 8, 9]\n",
      "[0, 2, 4, 6, 8, 10, 12, 14, 16, 18]\n",
      "[-10, -9, -8, -7, -6, -5, -4, -3, -2, -1]\n",
      "[0, -1, -2, -3, -4, -5, -6, -7, -8, -9, -10]\n"
     ]
    }
   ],
   "source": [
    "print(list(range(10)))\n",
    "print(list(range(0,10,1)))\n",
    "print(list(range(0,20,2)))\n",
    "print(list(range(-10,0,1)))\n",
    "print(list(range(0,-11,-1)))"
   ]
  },
  {
   "cell_type": "markdown",
   "id": "59624312",
   "metadata": {},
   "source": [
    "### For loop in python \n",
    "\n",
    "Syntax = for  element in sequence:\n",
    " * print(element)"
   ]
  },
  {
   "cell_type": "code",
   "execution_count": 10,
   "id": "c1818558",
   "metadata": {},
   "outputs": [
    {
     "name": "stdout",
     "output_type": "stream",
     "text": [
      "0 It is an Even numeber\n",
      "1 It is an odd number \n",
      "2 It is an Even numeber\n",
      "3 It is an odd number \n",
      "4 It is an Even numeber\n",
      "5 It is an odd number \n",
      "6 It is an Even numeber\n",
      "7 It is an odd number \n",
      "8 It is an Even numeber\n",
      "9 It is an odd number \n"
     ]
    }
   ],
   "source": [
    "for i in range(10):\n",
    "    if i%2==0:\n",
    "        print(i,\"It is an Even numeber\")\n",
    "    else:\n",
    "        print(i,\"It is an odd number \")"
   ]
  },
  {
   "cell_type": "code",
   "execution_count": 20,
   "id": "45b1a8fc",
   "metadata": {},
   "outputs": [
    {
     "name": "stdout",
     "output_type": "stream",
     "text": [
      "45\n"
     ]
    }
   ],
   "source": [
    "lst = [1,2,3,4,5,6,7,8,9]\n",
    "result = 0\n",
    "for i in lst:\n",
    "    result += i\n",
    "    \n",
    "print(result)"
   ]
  },
  {
   "cell_type": "markdown",
   "id": "b5b7099a",
   "metadata": {},
   "source": [
    "### While loops in python \n",
    "\n",
    "syntax = while condition:\n",
    "* * * code will be here "
   ]
  },
  {
   "cell_type": "code",
   "execution_count": null,
   "id": "e6a0cedc",
   "metadata": {},
   "outputs": [],
   "source": [
    "number = 0\n",
    "while number <= 10:\n",
    "    if number%2==0:\n",
    "        print(number)\n",
    "    number += 1"
   ]
  },
  {
   "cell_type": "code",
   "execution_count": null,
   "id": "7f58362d",
   "metadata": {},
   "outputs": [],
   "source": [
    "num = 0\n",
    "while num <= 10:\n",
    "    print(num)\n",
    "    num+=1"
   ]
  },
  {
   "cell_type": "code",
   "execution_count": 36,
   "id": "d5e31bc9",
   "metadata": {},
   "outputs": [
    {
     "name": "stdout",
     "output_type": "stream",
     "text": [
      "python is a programming language \n",
      "python is a programming language \n",
      "python is a programming language \n",
      "python\n",
      "python\n",
      "python\n"
     ]
    }
   ],
   "source": [
    "for i in range(3):\n",
    "    print(\"python is a programming language \")\n",
    "    \n",
    "count = 1\n",
    "while count < 4:\n",
    "    print(\"python\")\n",
    "    count+=1"
   ]
  }
 ],
 "metadata": {
  "kernelspec": {
   "display_name": "Python 3",
   "language": "python",
   "name": "python3"
  },
  "language_info": {
   "codemirror_mode": {
    "name": "ipython",
    "version": 3
   },
   "file_extension": ".py",
   "mimetype": "text/x-python",
   "name": "python",
   "nbconvert_exporter": "python",
   "pygments_lexer": "ipython3",
   "version": "3.13.1"
  }
 },
 "nbformat": 4,
 "nbformat_minor": 5
}
