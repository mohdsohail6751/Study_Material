{
 "cells": [
  {
   "cell_type": "markdown",
   "id": "aaddcdd6",
   "metadata": {},
   "source": [
    "# Transfer statements "
   ]
  },
  {
   "cell_type": "markdown",
   "id": "36f770c7",
   "metadata": {},
   "source": [
    "transfer statements are used to alter the flow of execution in a program. They allow you to jump to different parts of the code or exit loops and functions"
   ]
  },
  {
   "cell_type": "code",
   "execution_count": 4,
   "id": "3ea4b305",
   "metadata": {},
   "outputs": [
    {
     "name": "stdout",
     "output_type": "stream",
     "text": [
      "1\n",
      "3\n",
      "5\n",
      "7\n",
      "9\n"
     ]
    }
   ],
   "source": [
    "for i in range(10):\n",
    "    if i%2==0:\n",
    "        continue\n",
    "    else:\n",
    "        print(i)"
   ]
  },
  {
   "cell_type": "code",
   "execution_count": 14,
   "id": "9aa5d631",
   "metadata": {},
   "outputs": [],
   "source": [
    "i = int(input(\"ENter a number for the loop : \"))\n",
    "while True:\n",
    "    if i%2==0:\n",
    "        print(i)\n",
    "    else:\n",
    "        break"
   ]
  },
  {
   "cell_type": "code",
   "execution_count": null,
   "id": "5437ac17",
   "metadata": {},
   "outputs": [],
   "source": [
    "for i in range(5):\n",
    "    for j in range(i):\n",
    "        print(\"i = \", i, \"j =\",j)"
   ]
  },
  {
   "cell_type": "code",
   "execution_count": 29,
   "id": "bde228af",
   "metadata": {},
   "outputs": [
    {
     "name": "stdout",
     "output_type": "stream",
     "text": [
      "1 2 3 \n",
      "4 5 6 \n",
      "7 8 9 \n"
     ]
    }
   ],
   "source": [
    "n_lst = [[1,2,3],[4,5,6],[7,8,9]]\n",
    "for num in n_lst:\n",
    "    for sub_list in num:\n",
    "        print(sub_list, end= ' ')\n",
    "    print()"
   ]
  }
 ],
 "metadata": {
  "kernelspec": {
   "display_name": "Python 3",
   "language": "python",
   "name": "python3"
  },
  "language_info": {
   "codemirror_mode": {
    "name": "ipython",
    "version": 3
   },
   "file_extension": ".py",
   "mimetype": "text/x-python",
   "name": "python",
   "nbconvert_exporter": "python",
   "pygments_lexer": "ipython3",
   "version": "3.13.1"
  }
 },
 "nbformat": 4,
 "nbformat_minor": 5
}
