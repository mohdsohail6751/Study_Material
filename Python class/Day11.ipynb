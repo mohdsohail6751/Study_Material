{
 "cells": [
  {
   "cell_type": "markdown",
   "id": "151c3519",
   "metadata": {},
   "source": [
    "### forzenset() : - it is a built in function of set but a normal set in mutable but frozen set is immutable, hashable ,etc."
   ]
  },
  {
   "cell_type": "code",
   "execution_count": 2,
   "id": "0a725304",
   "metadata": {},
   "outputs": [
    {
     "name": "stdout",
     "output_type": "stream",
     "text": [
      "frozenset({1, 2, 3, 4, 5})\n",
      "<class 'frozenset'>\n"
     ]
    }
   ],
   "source": [
    "frozen_set = frozenset([1,2,3,4,5])\n",
    "print(frozen_set)\n",
    "print(type(frozen_set))"
   ]
  },
  {
   "cell_type": "markdown",
   "id": "b91f24d5",
   "metadata": {},
   "source": [
    "#### Dictionary in python : it works as key: value pair we have a key and a value for it as for the realtime dictionary with some word and meaning concept.here values can be anything but key must be unique.\n"
   ]
  },
  {
   "cell_type": "code",
   "execution_count": 33,
   "id": "bd11d9f5",
   "metadata": {},
   "outputs": [
    {
     "name": "stdout",
     "output_type": "stream",
     "text": [
      "{'Mohd sohail': 85, 'Dhiraj kumar': 95, 'Hemant Kumar': 95}\n"
     ]
    }
   ],
   "source": [
    "# Simple example of a dictionary ;\n",
    "\n",
    "# new_dict = {'Name':'Mohd Sohail','Marks':}\n",
    "\n",
    "# index = input(\"Enter the index name : \")\n",
    "\n",
    "# if index in new_dict:\n",
    "#     print(new_dict[index])\n",
    "# else:\n",
    "#     print(\"Please enter the correct fruit name \")\n",
    "\n",
    "\n",
    "\n",
    "# print(new_dict.get('Sec1',\"not present\"))\n",
    "\n",
    "\n",
    "# new_dict1 = {'Name1':'Dhiraj','Roll_no1':2231503,'Sec1':'C7'}\n",
    "# print(new_dict['Name'])\n",
    "# print(type(new_dict))\n",
    "\n",
    "# new_dict['City'] = 'Bengaluru' # This is how we add a new element in the dictionary \n",
    "# new_dict.pop('Sec') # This is how we remove the values from the dictionary\n",
    "\n",
    "# print(new_dict)\n",
    "# print(new_dict.keys())  # THis is how we only get the keys \n",
    "\n",
    "\n",
    "students_records = {}\n",
    "no_of_students = 3\n",
    "\n",
    "for i in range(no_of_students):\n",
    "    name = input(\"Enter the name : \")\n",
    "    marks = eval(input(\"Enter the marks : \"))\n",
    "    students_records[name] = marks\n",
    "    \n",
    "print(students_records)\n",
    "    "
   ]
  }
 ],
 "metadata": {
  "kernelspec": {
   "display_name": "Python 3",
   "language": "python",
   "name": "python3"
  },
  "language_info": {
   "codemirror_mode": {
    "name": "ipython",
    "version": 3
   },
   "file_extension": ".py",
   "mimetype": "text/x-python",
   "name": "python",
   "nbconvert_exporter": "python",
   "pygments_lexer": "ipython3",
   "version": "3.13.1"
  }
 },
 "nbformat": 4,
 "nbformat_minor": 5
}
