{
 "cells": [
  {
   "cell_type": "markdown",
   "id": "0a882358",
   "metadata": {},
   "source": [
    "## Data types in detail \n"
   ]
  },
  {
   "cell_type": "code",
   "execution_count": null,
   "id": "af65ad37",
   "metadata": {},
   "outputs": [],
   "source": [
    "'''\n",
    "immutable \n",
    "tuple \n",
    "string\n",
    "frozenset\n",
    "\n",
    "\n",
    "\n",
    "Mutable \n",
    "List \n",
    "Dictionary \n",
    "Set\n",
    "\n",
    "'''"
   ]
  },
  {
   "cell_type": "code",
   "execution_count": null,
   "id": "454a250e",
   "metadata": {},
   "outputs": [
    {
     "name": "stdout",
     "output_type": "stream",
     "text": [
      "Mahesh Kumar\n",
      "3112009084848\n"
     ]
    }
   ],
   "source": [
    "name = \"Mohd Sohail\"\n",
    "print(name)\n",
    "print(id(name))"
   ]
  },
  {
   "cell_type": "code",
   "execution_count": 7,
   "id": "b324efdb",
   "metadata": {},
   "outputs": [
    {
     "name": "stdout",
     "output_type": "stream",
     "text": [
      "<class 'int'>\n",
      "25\n"
     ]
    }
   ],
   "source": [
    "number = int(input(\"ENter the input number : \"))\n",
    "print(type (number))\n",
    "print(number)"
   ]
  },
  {
   "cell_type": "code",
   "execution_count": null,
   "id": "7c5eeb35",
   "metadata": {},
   "outputs": [
    {
     "name": "stdout",
     "output_type": "stream",
     "text": [
      "I am a python developer \n",
      "name Mohd sohail course  Python  college  Besant Technologies \n"
     ]
    }
   ],
   "source": [
    "print(\"I am a python developer \")\n",
    "\n",
    "print('name', name , 'course ' ,course, 'college ' ,college)"
   ]
  },
  {
   "cell_type": "markdown",
   "id": "e106abfd",
   "metadata": {},
   "source": [
    "### eval() function is used for evaluating the data type, the data type will be in any format or type \n"
   ]
  },
  {
   "cell_type": "code",
   "execution_count": 31,
   "id": "92a8da28",
   "metadata": {},
   "outputs": [
    {
     "name": "stdout",
     "output_type": "stream",
     "text": [
      "<class 'int'>\n",
      "10\n"
     ]
    }
   ],
   "source": [
    "random_number = eval(input(\"Enter the number : \"))\n",
    "print(type(random_number))\n",
    "print(random_number)"
   ]
  },
  {
   "cell_type": "code",
   "execution_count": 30,
   "id": "2cfa6207",
   "metadata": {},
   "outputs": [
    {
     "name": "stdout",
     "output_type": "stream",
     "text": [
      "Name Mohd sohail course Python  College Besant Technologies \n",
      "name Mohd sohail course Python  collegeBesant Technologies \n",
      "name Mohd sohail course Python  college Besant Technologies \n"
     ]
    }
   ],
   "source": [
    "name = \"Mohd sohail\"\n",
    "course = \"Python \"\n",
    "college = \"Besant Technologies \"\n",
    "print(\"Name\", name , \"course\",course, \"College\" ,college)\n",
    "print(\"name {} course {} college{}\".format(name, course, college))\n",
    "print(f\"name {name} course {course} college {college}\")"
   ]
  }
 ],
 "metadata": {
  "kernelspec": {
   "display_name": "Python 3",
   "language": "python",
   "name": "python3"
  },
  "language_info": {
   "codemirror_mode": {
    "name": "ipython",
    "version": 3
   },
   "file_extension": ".py",
   "mimetype": "text/x-python",
   "name": "python",
   "nbconvert_exporter": "python",
   "pygments_lexer": "ipython3",
   "version": "3.13.1"
  }
 },
 "nbformat": 4,
 "nbformat_minor": 5
}
