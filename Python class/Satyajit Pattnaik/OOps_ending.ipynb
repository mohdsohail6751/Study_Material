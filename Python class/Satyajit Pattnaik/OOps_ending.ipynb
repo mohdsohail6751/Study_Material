{
 "cells": [
  {
   "cell_type": "markdown",
   "id": "1a703e07",
   "metadata": {},
   "source": [
    "# Operator Overloading in python "
   ]
  },
  {
   "cell_type": "markdown",
   "id": "ef1a5f42",
   "metadata": {},
   "source": [
    "Operator overloading in Python allows you to redefine the behavior of operators (like +, -, *, etc.) for user-defined classes."
   ]
  },
  {
   "cell_type": "code",
   "execution_count": 7,
   "id": "2ea5f134",
   "metadata": {},
   "outputs": [
    {
     "name": "stdout",
     "output_type": "stream",
     "text": [
      "Vector(6, 8)\n",
      "Vector(-2, -2)\n",
      "Vector(8, 15)\n"
     ]
    }
   ],
   "source": [
    "# Mathematical operation for Vectors \n",
    "\n",
    "class Vector:\n",
    "    def __init__(self,x,y):\n",
    "        self.x = x\n",
    "        self.y = y\n",
    "    \n",
    "    def __add__(self,other):\n",
    "        return Vector(self.x+other.x,self.y+other.y)\n",
    "    def __sub__(self,other):\n",
    "        return Vector(self.x-other.x,self.y-other.y)\n",
    "    def __mul__(self,other):\n",
    "        return Vector(self.x*other.x,self.y*other.y)\n",
    "    def __eq__(self,other):\n",
    "        return Vector(self.x==other.x,self.y==other.y)\n",
    "    def __repr__(self):\n",
    "        return f\"Vector({self.x}, {self.y})\"\n",
    "    \n",
    "## create objects of the vector class\n",
    "\n",
    "v1 = Vector(2,3)\n",
    "v2 = Vector(4,5)\n",
    "print(v1+v2)\n",
    "print(v1-v2)\n",
    "print(v1*v2)\n"
   ]
  },
  {
   "cell_type": "code",
   "execution_count": null,
   "id": "6b250065",
   "metadata": {},
   "outputs": [],
   "source": [
    "## Operator overloading for complex numbers \n",
    "\n"
   ]
  },
  {
   "cell_type": "markdown",
   "id": "658de79f",
   "metadata": {},
   "source": [
    "# Custom Exception(Raise and Throw an exception)"
   ]
  },
  {
   "cell_type": "markdown",
   "id": "e5099ab7",
   "metadata": {},
   "source": [
    "#### This is how we create an custom exception in the python code "
   ]
  },
  {
   "cell_type": "code",
   "execution_count": 8,
   "id": "2d4ba31c",
   "metadata": {},
   "outputs": [],
   "source": [
    "class Error(Exception):\n",
    "    pass\n",
    "\n",
    "class dobException(Error):\n",
    "    pass"
   ]
  },
  {
   "cell_type": "code",
   "execution_count": 12,
   "id": "4cc52089",
   "metadata": {},
   "outputs": [
    {
     "name": "stdout",
     "output_type": "stream",
     "text": [
      "The age is valid so you can apply for the exam\n"
     ]
    }
   ],
   "source": [
    "year = int(input(\"Enter the date of Birth : \"))\n",
    "age = 2025-year\n",
    "\n",
    "try:\n",
    "    if age<=30 and age>=20:\n",
    "        print(\"The age is valid so you can apply for the exam\")\n",
    "    else:\n",
    "        raise dobException\n",
    "except dobException:\n",
    "    print(\"Sorry, your age is not with in the criteria\")"
   ]
  }
 ],
 "metadata": {
  "kernelspec": {
   "display_name": "Python 3",
   "language": "python",
   "name": "python3"
  },
  "language_info": {
   "codemirror_mode": {
    "name": "ipython",
    "version": 3
   },
   "file_extension": ".py",
   "mimetype": "text/x-python",
   "name": "python",
   "nbconvert_exporter": "python",
   "pygments_lexer": "ipython3",
   "version": "3.13.1"
  }
 },
 "nbformat": 4,
 "nbformat_minor": 5
}
