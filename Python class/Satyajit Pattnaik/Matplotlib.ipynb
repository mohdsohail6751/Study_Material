{
 "cells": [
  {
   "cell_type": "markdown",
   "id": "80c52321",
   "metadata": {},
   "source": [
    "# Matplotlib"
   ]
  },
  {
   "cell_type": "markdown",
   "id": "f57ba24b",
   "metadata": {},
   "source": [
    "* Library used for graphical representation of values. \n",
    "    * installation :\n",
    "        * pip install matplotlib -> import matplotlib as plt\n",
    "    * Suppose we have to populate our previous lists:\n",
    "\n",
    "        import matplotlib.pyplot as plt\n",
    "\n",
    "        plt.plot(Convert)\n",
    "        \n",
    "        plot.show()\n"
   ]
  },
  {
   "cell_type": "markdown",
   "id": "43d1362d",
   "metadata": {},
   "source": [
    "## Various charts in Matplotlib \n",
    "\n",
    "* Histograms : \n",
    "    * Measure frequency distribution of data\n",
    "* Area / Bar charts : \n",
    "    * Represent no. of observations for different categories.\n",
    "* Pie Charts : \n",
    "    * Represent the percentage data by each category"
   ]
  },
  {
   "cell_type": "code",
   "execution_count": null,
   "id": "e95046fd",
   "metadata": {},
   "outputs": [],
   "source": [
    "import pandas as pd\n",
    "import numpy as np\n",
    "import matplotlib.pyplot as plt\n",
    "\n",
    "Data = {'Year' : [1920,1930,1940,1950,1960,1970,1980,1990,2000,2010,2020],\n",
    "        'Exchange_Rate' : [65,69,71,64,62,59,72,71,75,78,81]}\n",
    "\n",
    "type(Data)"
   ]
  },
  {
   "cell_type": "code",
   "execution_count": null,
   "id": "1d07f878",
   "metadata": {},
   "outputs": [],
   "source": [
    "df = pd.DataFrame(Data, columns = ['Year', 'Exchange_Rate'])\n",
    "df\n"
   ]
  },
  {
   "cell_type": "code",
   "execution_count": null,
   "id": "85405427",
   "metadata": {},
   "outputs": [],
   "source": [
    "# df.plot(x = 'Year', y = 'Exchange_Rate', kind = 'barh')\n",
    "# df.plot(x = 'Year', y = 'Exchange_Rate', kind = 'area')\n",
    "# df.plot(x = 'Year', y = 'Exchange_Rate', kind = 'hist')\n",
    "# df.plot(x = 'Year', y = 'Exchange_Rate', kind = 'density')\n",
    "# df.plot(x = 'Year', y = 'Exchange_Rate', kind = 'line')\n",
    "# df.plot(x = 'Year', y = 'Exchange_Rate', kind = 'box')\n",
    "# df.plot(x = 'Year', y = 'Exchange_Rate', kind = 'line')\n",
    "# df.plot(x = 'Year', y = 'Exchange_Rate', kind = 'scatter')  # Whole description is written below :\n",
    "\n",
    "\n",
    "plt.scatter(x = 'Year', y='Exchange_Rate')\n",
    "# x is used for the x-axis as a variable \n",
    "# y is used for the y-axis as a variable \n",
    "# kind : it is used to choose the graph type like bar, pie,etc\n",
    "# kind : ('line', 'bar', 'barh', 'kde', 'density', 'area', 'hist', 'box', 'pie', 'scatter', 'hexbin')\n",
    "# plt.show() is used to show the visualization \n",
    "plt.show()"
   ]
  },
  {
   "cell_type": "code",
   "execution_count": null,
   "id": "70e203c5",
   "metadata": {},
   "outputs": [],
   "source": []
  },
  {
   "cell_type": "code",
   "execution_count": null,
   "id": "dc2c2bfe",
   "metadata": {},
   "outputs": [],
   "source": [
    "# Here how to plot a bar chart and other stuff !!!!\n",
    "\n",
    "Data = {'Tasks':[100,500,300]}\n",
    "df=pd.DataFrame(Data, columns = ['Tasks'], index = ['Pending', 'Ongoing','Complete'], )\n",
    "# here in the above line if i don't use indexes i will get its \n",
    "# default index i.e., 0,1,2\n",
    "df.plot.bar(y='Tasks', color =[\"cyan\",\"yellow\",\"green\"],edgecolor=\"Black\",figsize= (5,5))\n",
    "plt.show()"
   ]
  },
  {
   "cell_type": "code",
   "execution_count": null,
   "id": "c271373f",
   "metadata": {},
   "outputs": [],
   "source": [
    "# Here we will learn how to plot a pie chart\n",
    "\n",
    "labels_ex = 'Javascript','Java','Python', 'R'\n",
    "sizes = [15,30,45,10]\n",
    "explode_labels = (0,0,0,0)\n",
    "fig1,ax1 = plt.subplots()\n",
    "\n",
    "ax1.pie(sizes, explode = explode_labels, labels=labels_ex,shadow=True,startangle=90)\n",
    "ax1.axis('equal')\n",
    "plt.show()"
   ]
  }
 ],
 "metadata": {
  "kernelspec": {
   "display_name": "Python 3",
   "language": "python",
   "name": "python3"
  },
  "language_info": {
   "codemirror_mode": {
    "name": "ipython",
    "version": 3
   },
   "file_extension": ".py",
   "mimetype": "text/x-python",
   "name": "python",
   "nbconvert_exporter": "python",
   "pygments_lexer": "ipython3",
   "version": "3.13.1"
  }
 },
 "nbformat": 4,
 "nbformat_minor": 5
}
