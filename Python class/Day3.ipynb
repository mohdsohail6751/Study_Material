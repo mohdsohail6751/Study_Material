{
 "cells": [
  {
   "cell_type": "code",
   "execution_count": 5,
   "id": "7b485e91",
   "metadata": {},
   "outputs": [
    {
     "name": "stdout",
     "output_type": "stream",
     "text": [
      "1849377598768\n",
      "Mohd sohail\n"
     ]
    }
   ],
   "source": [
    "name = 'Mohd sohail'\n",
    "print(id(name))\n",
    "print(name)"
   ]
  },
  {
   "cell_type": "code",
   "execution_count": null,
   "id": "ab0df00a",
   "metadata": {},
   "outputs": [
    {
     "name": "stdout",
     "output_type": "stream",
     "text": [
      "['False', 'None', 'True', 'and', 'as', 'assert', 'async', 'await', 'break', 'class', 'continue', 'def', 'del', 'elif', 'else', 'except', 'finally', 'for', 'from', 'global', 'if', 'import', 'in', 'is', 'lambda', 'nonlocal', 'not', 'or', 'pass', 'raise', 'return', 'try', 'while', 'with', 'yield']\n",
      "35\n"
     ]
    }
   ],
   "source": [
    "import keyword\n",
    "\n",
    "print(keyword.kwlist)    # we cannot use it as a variable name \n",
    "print(len(keyword.kwlist))   # length of the keyword variables "
   ]
  },
  {
   "cell_type": "code",
   "execution_count": null,
   "id": "4bb559ab",
   "metadata": {},
   "outputs": [],
   "source": [
    "# Data type : Type of data is called as data type\n",
    "\n",
    "'''\n",
    "First 7 data types are basic and other 7 are the advanced data type \n",
    "\n",
    "Byte          -126 to 127\n",
    "Bytearray     \n",
    "int           1,2,3,4,5,6,7,8,9--- --- ---\n",
    "float         1.1,1.2,1.3,1.4 --- --- ---\n",
    "boolean       True or False\n",
    "complex       a + bj where a is a real number and bj is an imaginary number \n",
    "Range         generate some sequence of number 0--9,0--n, etc\n",
    "List         \n",
    "Tuple \n",
    "set \n",
    "Frozenset \n",
    "Dictionary \n",
    "String\n",
    "None\n",
    "\n",
    "\n",
    "'''\n",
    "\n",
    "# print(\"Hello \")\n",
    "'''\n",
    "oirhgpoeigh[ExceptionGroup4\n",
    "            [eorg[EncodingWarning\n",
    "            perogj]]]\n",
    "                  \n",
    "'''"
   ]
  }
 ],
 "metadata": {
  "kernelspec": {
   "display_name": "Python 3",
   "language": "python",
   "name": "python3"
  },
  "language_info": {
   "codemirror_mode": {
    "name": "ipython",
    "version": 3
   },
   "file_extension": ".py",
   "mimetype": "text/x-python",
   "name": "python",
   "nbconvert_exporter": "python",
   "pygments_lexer": "ipython3",
   "version": "3.13.1"
  }
 },
 "nbformat": 4,
 "nbformat_minor": 5
}
