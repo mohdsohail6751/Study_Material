{
 "cells": [
  {
   "cell_type": "markdown",
   "id": "6572a9fd",
   "metadata": {},
   "source": [
    "## What are Operators in python\n"
   ]
  },
  {
   "cell_type": "markdown",
   "id": "a1b54e3f",
   "metadata": {},
   "source": [
    "Operators are the Operation in which we perform some operation with operator and operand\n"
   ]
  },
  {
   "cell_type": "markdown",
   "id": "57a9478b",
   "metadata": {},
   "source": [
    "### Types of Operators in python\n"
   ]
  },
  {
   "cell_type": "markdown",
   "id": "3d1a1064",
   "metadata": {},
   "source": [
    "1. Arithmetic operator  \n",
    "   Where we do some mathematical operations\n",
    "2. Comparison Operator  \n",
    "   where we do some comparison between two variables or values\n",
    "3. Bitwise Operator  \n",
    "   It works on the basis of bits and its calculation\n",
    "4. Logical Operator  \n",
    "   It works on the basis of the logical gates like AND, OR, NOT and so on\n",
    "5. Membership operator  \n",
    "   where we check that is it the member of the other variable or not\n"
   ]
  },
  {
   "cell_type": "code",
   "execution_count": null,
   "id": "fb751966",
   "metadata": {},
   "outputs": [],
   "source": [
    "print(True and True)\n",
    "print(True and False)\n",
    "print(False and True)\n",
    "print(False and False)\n",
    "\n",
    "\n",
    "print(True or True)\n",
    "print(False or True)\n",
    "print(True or False)\n",
    "print(False or False)\n",
    "\n",
    "\n",
    "print(not True)\n",
    "print(not False)"
   ]
  },
  {
   "cell_type": "code",
   "execution_count": null,
   "id": "fa2413f5",
   "metadata": {},
   "outputs": [],
   "source": [
    "a = 20\n",
    "b = 10\n",
    "print(\n",
    "    a == b\n",
    ")  # comparison operator used to compare on the basis of data of the variable\n",
    "print(\n",
    "    a is 10\n",
    ")  # membership operator used to  compare on the basis of address of the variable\n",
    "print(a is not b)\n",
    "print(b is 20)\n",
    "print(b is a)"
   ]
  },
  {
   "cell_type": "code",
   "execution_count": null,
   "id": "90ba130d",
   "metadata": {},
   "outputs": [
    {
     "name": "stdout",
     "output_type": "stream",
     "text": [
      "20 10\n"
     ]
    }
   ],
   "source": [
    "# swapping the variable's value in python\n",
    "\n",
    "a = 10\n",
    "b = 20\n",
    "a, b = b, a\n",
    "print(a, b)"
   ]
  },
  {
   "cell_type": "markdown",
   "id": "0479ae96",
   "metadata": {},
   "source": [
    "## What are control flow statements\n"
   ]
  },
  {
   "cell_type": "markdown",
   "id": "76a66bd9",
   "metadata": {},
   "source": [
    "control flow statement used for making the decision,checking the multiple statements that is it true of False  "
   ]
  },
  {
   "cell_type": "code",
   "execution_count": 10,
   "id": "48d14d6b",
   "metadata": {},
   "outputs": [
    {
     "name": "stdout",
     "output_type": "stream",
     "text": [
      "A is lesser than B\n"
     ]
    }
   ],
   "source": [
    "a = 10\n",
    "b = 20\n",
    "if a > b:\n",
    "    print(\"A is greater than B\")\n",
    "else:\n",
    "    print(\"A is lesser than B\")"
   ]
  },
  {
   "cell_type": "code",
   "execution_count": 6,
   "id": "a1bf31c9",
   "metadata": {},
   "outputs": [
    {
     "name": "stdout",
     "output_type": "stream",
     "text": [
      "The number is Even\n"
     ]
    }
   ],
   "source": [
    "def EvenOdd():\n",
    "    x = int(input(\"enter your number : \"))\n",
    "    if x%2==0:\n",
    "        print(\"The number is Even\")\n",
    "    else:\n",
    "        print(\"The number is Odd\")\n",
    "        \n",
    "EvenOdd()"
   ]
  }
 ],
 "metadata": {
  "kernelspec": {
   "display_name": "Python 3",
   "language": "python",
   "name": "python3"
  },
  "language_info": {
   "codemirror_mode": {
    "name": "ipython",
    "version": 3
   },
   "file_extension": ".py",
   "mimetype": "text/x-python",
   "name": "python",
   "nbconvert_exporter": "python",
   "pygments_lexer": "ipython3",
   "version": "3.13.1"
  }
 },
 "nbformat": 4,
 "nbformat_minor": 5
}
