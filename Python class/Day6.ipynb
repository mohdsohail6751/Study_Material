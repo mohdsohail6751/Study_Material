{
 "cells": [
  {
   "cell_type": "markdown",
   "id": "552fd121",
   "metadata": {},
   "source": [
    "## Conditional statements "
   ]
  },
  {
   "cell_type": "markdown",
   "id": "1ab9dc86",
   "metadata": {},
   "source": [
    "for making decisions and checking that tells us the relationship between two proposition"
   ]
  },
  {
   "cell_type": "code",
   "execution_count": 4,
   "id": "8ed52cb6",
   "metadata": {},
   "outputs": [
    {
     "name": "stdout",
     "output_type": "stream",
     "text": [
      "Yes\n"
     ]
    }
   ],
   "source": [
    "a = 10\n",
    "if a >= 10:\n",
    "    print(\"Yes\")\n",
    "elif a <= 10:\n",
    "    print(\"No\")\n",
    "else:\n",
    "    print(\" \")\n"
   ]
  },
  {
   "cell_type": "code",
   "execution_count": null,
   "id": "ec9b7095",
   "metadata": {},
   "outputs": [
    {
     "name": "stdout",
     "output_type": "stream",
     "text": [
      "Interested in science \n"
     ]
    }
   ],
   "source": [
    "# Conditional statement with if elif and else statement \n",
    "\n",
    "course = input(\"Enter the course name : \")\n",
    "if course == \"Science\":\n",
    "    print(\"Interested in science \")\n",
    "elif course  == \"Commerce\":\n",
    "    print(\"Interested in Commerce\")\n",
    "else:\n",
    "    print(\"Interested in Arts \")"
   ]
  },
  {
   "cell_type": "code",
   "execution_count": 6,
   "id": "6c133fd4",
   "metadata": {},
   "outputs": [
    {
     "name": "stdout",
     "output_type": "stream",
     "text": [
      "Inside if 1\n",
      "a  is lesser than b \n"
     ]
    }
   ],
   "source": [
    "a = 10\n",
    "b = 20\n",
    "if a < b:\n",
    "    print(\"Inside if 1\")\n",
    "    print(\"a  is lesser than b \")\n",
    "elif True:\n",
    "    print()\n",
    "elif a > b:\n",
    "    print(\"inside if2\")\n",
    "    print(\"a is greater than b\")\n",
    "else : \n",
    "    print(\"None of the above\")\n",
    "    "
   ]
  },
  {
   "cell_type": "code",
   "execution_count": null,
   "id": "95495f77",
   "metadata": {},
   "outputs": [
    {
     "name": "stdout",
     "output_type": "stream",
     "text": [
      "85  is the largest number \n"
     ]
    }
   ],
   "source": [
    "# checking whether num1 is greater or num2\n",
    "\n",
    "num1 = int(input(\"Enter the Number 1 : \"))\n",
    "num2 = int(input (\"Enter the number 2 : \"))\n",
    "if num1 > num2:\n",
    "    print(num1,\" is the largest number \")\n",
    "else:\n",
    "    print(num2, \" is the largest number \")"
   ]
  },
  {
   "cell_type": "code",
   "execution_count": null,
   "id": "605b38ab",
   "metadata": {},
   "outputs": [
    {
     "name": "stdout",
     "output_type": "stream",
     "text": [
      "letter is A\n"
     ]
    }
   ],
   "source": [
    "# Checking whether the Character is A B or C \n",
    "\n",
    "letter = \"A\"\n",
    "if letter == \"B\":\n",
    "    print(\"Letter is B\")\n",
    "else:\n",
    "    if letter == \"C\":\n",
    "        print(\"Letter is C\")\n",
    "    else:\n",
    "        if letter == \"A\":\n",
    "            print(\"letter is A\")\n",
    "        else:\n",
    "            print(\"Letter isn't A, B and C\")"
   ]
  },
  {
   "cell_type": "code",
   "execution_count": null,
   "id": "23d96df7",
   "metadata": {},
   "outputs": [
    {
     "name": "stdout",
     "output_type": "stream",
     "text": [
      "your username and password are incorrect !! \n"
     ]
    }
   ],
   "source": [
    "# Login and password credentials from the users \n",
    "\n",
    "user_name = input(\"Enter your user_name : \")\n",
    "pwd = int(input(\"Enter your password : \"))\n",
    "\n",
    "\n",
    "if user_name == \"SOHAIL\" and pwd == 12345:\n",
    "    if user_name == \"SOHAIL\":\n",
    "        if pwd == 12345:\n",
    "            print(\"Login successfully\")\n",
    "        else:\n",
    "            print(\"Password is incorrect please enter the correct password\")\n",
    "    else:\n",
    "        print(\"Your user_name is incorrect\")\n",
    "else:\n",
    "    print(\"your username and password are incorrect !! \")"
   ]
  },
  {
   "cell_type": "code",
   "execution_count": null,
   "id": "61cfbf50",
   "metadata": {},
   "outputs": [
    {
     "name": "stdout",
     "output_type": "stream",
     "text": [
      "22\n"
     ]
    }
   ],
   "source": [
    "# Age calculator \n",
    "\n",
    "from datetime import datetime\n",
    "birth_year = int(input(\"Enter your birth year: \"))\n",
    "current_year = 2025\n",
    "current_age =current_year - birth_year\n",
    "print(current_age)"
   ]
  },
  {
   "cell_type": "code",
   "execution_count": 22,
   "id": "d8c05dbb",
   "metadata": {},
   "outputs": [
    {
     "name": "stdout",
     "output_type": "stream",
     "text": [
      "Tip  : 10.0\n",
      "Total amount to be paid : 110.0\n"
     ]
    }
   ],
   "source": [
    "# TIp calculator \n",
    "\n",
    "bill_amount = float(input(\"Enter the bill amount \"))\n",
    "tip_percentage = float(input(\"ENter the tip percentage : \"))\n",
    "tip = (bill_amount * tip_percentage) / 100\n",
    "total = bill_amount + tip\n",
    "print(f\"Tip  : {tip}\")\n",
    "print(f\"Total amount to be paid : {total}\")"
   ]
  },
  {
   "cell_type": "code",
   "execution_count": 24,
   "id": "4797dbfc",
   "metadata": {},
   "outputs": [
    {
     "name": "stdout",
     "output_type": "stream",
     "text": [
      "your BMI is :  47.02537182852143\n"
     ]
    }
   ],
   "source": [
    "# BMI calculator \n",
    "weight = eval(input(\"please enter the weight in kg's : \"))\n",
    "height = eval(input(\"please enter your height in ft : \"))\n",
    "BMI =weight / (height * 0.3048)\n",
    "print(\"your BMI is : \", BMI)"
   ]
  }
 ],
 "metadata": {
  "kernelspec": {
   "display_name": "Python 3",
   "language": "python",
   "name": "python3"
  },
  "language_info": {
   "codemirror_mode": {
    "name": "ipython",
    "version": 3
   },
   "file_extension": ".py",
   "mimetype": "text/x-python",
   "name": "python",
   "nbconvert_exporter": "python",
   "pygments_lexer": "ipython3",
   "version": "3.13.1"
  }
 },
 "nbformat": 4,
 "nbformat_minor": 5
}
