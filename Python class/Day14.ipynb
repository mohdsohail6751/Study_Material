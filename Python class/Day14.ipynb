{
 "cells": [
  {
   "cell_type": "code",
   "execution_count": 2,
   "id": "29f68df3",
   "metadata": {},
   "outputs": [
    {
     "name": "stdout",
     "output_type": "stream",
     "text": [
      "The sum result is :  50\n",
      "The multiplication result is :  600\n"
     ]
    }
   ],
   "source": [
    "# calculate the multiplication and sum of two numbers\n",
    "\n",
    "number1 = int(input(\"Enter the first number : \"))\n",
    "number2 = int(input(\"Enter the second number : \"))\n",
    "\n",
    "sum = number1 + number2\n",
    "multiplication = number1 * number2\n",
    "\n",
    "print(\"The sum result is : \",sum)\n",
    "print(\"The multiplication result is : \",multiplication)"
   ]
  },
  {
   "cell_type": "code",
   "execution_count": 21,
   "id": "70048ccc",
   "metadata": {},
   "outputs": [
    {
     "name": "stdout",
     "output_type": "stream",
     "text": [
      "Current num :0; previous number : -1; Sum is -1\n",
      "Current num :1; previous number : 0; Sum is 1\n",
      "Current num :2; previous number : 1; Sum is 3\n",
      "Current num :3; previous number : 2; Sum is 5\n",
      "Current num :4; previous number : 3; Sum is 7\n",
      "Current num :5; previous number : 4; Sum is 9\n",
      "Current num :6; previous number : 5; Sum is 11\n",
      "Current num :7; previous number : 6; Sum is 13\n",
      "Current num :8; previous number : 7; Sum is 15\n",
      "Current num :9; previous number : 8; Sum is 17\n"
     ]
    }
   ],
   "source": [
    "# Print the sum of a current number and a previous number ?\n",
    "\n",
    "num = 0\n",
    "for i in range(10):\n",
    "    prev_num = i-1\n",
    "    sum = prev_num + i\n",
    "    print(f\"Current num :{i}; previous number : {prev_num}; Sum is {sum}\")\n",
    "    "
   ]
  },
  {
   "cell_type": "code",
   "execution_count": null,
   "id": "9e877691",
   "metadata": {},
   "outputs": [],
   "source": [
    "# Print characters present at a even index number \n",
    "words = \"PYnative\"\n",
    "for i in range(len(words)):\n",
    "    if i%2 == 0:\n",
    "        print(words[i])\n"
   ]
  },
  {
   "cell_type": "code",
   "execution_count": 35,
   "id": "1b6da24d",
   "metadata": {},
   "outputs": [
    {
     "name": "stdout",
     "output_type": "stream",
     "text": [
      "lo World \n"
     ]
    }
   ],
   "source": [
    "# Remove first n characters from the string\n",
    "n = int(input(\"Enter the number : \"))\n",
    "chars = input(\"Enter your word : \")\n",
    "print(chars[n::])"
   ]
  },
  {
   "cell_type": "code",
   "execution_count": null,
   "id": "aff3fbf8",
   "metadata": {},
   "outputs": [
    {
     "name": "stdout",
     "output_type": "stream",
     "text": [
      "True\n",
      "False\n"
     ]
    }
   ],
   "source": [
    "# Check if the first and last numbers of a list are the same\n",
    "numbers_x = [10,20,30,40,10]\n",
    "numbers_y = [75,65,35,75,30]\n",
    "\n",
    "print(numbers_x[0] == numbers_x[-1])\n",
    "print(numbers_y[0]==numbers_y[-1])\n",
    "\n",
    "\n",
    "\n",
    "# Reverse the number with built in function \n",
    "# num = 123\n",
    "# snum = str(num)\n",
    "# print(snum[::-1])\n",
    "\n",
    "# Reverse the number without any built in function \n",
    "# while num > 0:\n",
    "#     rem = num%10\n",
    "#     print(rem)\n",
    "#     num = num //10\n",
    "    \n"
   ]
  },
  {
   "cell_type": "code",
   "execution_count": null,
   "id": "c10f4fbb",
   "metadata": {},
   "outputs": [],
   "source": [
    "# Display numbers divisible by 5\n",
    "\n"
   ]
  }
 ],
 "metadata": {
  "kernelspec": {
   "display_name": "Python 3",
   "language": "python",
   "name": "python3"
  },
  "language_info": {
   "codemirror_mode": {
    "name": "ipython",
    "version": 3
   },
   "file_extension": ".py",
   "mimetype": "text/x-python",
   "name": "python",
   "nbconvert_exporter": "python",
   "pygments_lexer": "ipython3",
   "version": "3.13.1"
  }
 },
 "nbformat": 4,
 "nbformat_minor": 5
}
