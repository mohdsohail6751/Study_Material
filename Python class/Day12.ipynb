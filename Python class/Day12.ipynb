{
 "cells": [
  {
   "cell_type": "markdown",
   "id": "18b4dabb",
   "metadata": {},
   "source": [
    "# String datatype in python \n"
   ]
  },
  {
   "cell_type": "code",
   "execution_count": null,
   "id": "aa163f64",
   "metadata": {},
   "outputs": [
    {
     "name": "stdout",
     "output_type": "stream",
     "text": [
      "Your password is :  p2kwBIDy\n",
      "i can't come tomorrow\n"
     ]
    }
   ],
   "source": [
    "# Program to generate a Strong password !! \n",
    "\n",
    "from random import choice\n",
    "pwd = \"\" \n",
    "\n",
    "chars = [chr(i) for i in range(50,123)]\n",
    "# print(chars)\n",
    "\n",
    "for i in range(8):\n",
    "    pwd+=choice(chars)\n",
    "    \n",
    "print(\"Your password is : \" ,pwd)\n",
    "\n",
    "\n",
    "\n",
    "print('i can\\'t come tomorrow')"
   ]
  }
 ],
 "metadata": {
  "kernelspec": {
   "display_name": "Python 3",
   "language": "python",
   "name": "python3"
  },
  "language_info": {
   "codemirror_mode": {
    "name": "ipython",
    "version": 3
   },
   "file_extension": ".py",
   "mimetype": "text/x-python",
   "name": "python",
   "nbconvert_exporter": "python",
   "pygments_lexer": "ipython3",
   "version": "3.13.1"
  }
 },
 "nbformat": 4,
 "nbformat_minor": 5
}
