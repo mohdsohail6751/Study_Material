{
 "cells": [
  {
   "cell_type": "markdown",
   "id": "9a6cca05",
   "metadata": {},
   "source": [
    "## Map, Reduce & Filter "
   ]
  },
  {
   "cell_type": "markdown",
   "id": "65d64a15",
   "metadata": {},
   "source": [
    "Utility function - maps a collection to another collection object based on certain functionality."
   ]
  },
  {
   "cell_type": "markdown",
   "id": "16f3efb6",
   "metadata": {},
   "source": [
    "* Syntax = map(function, iterable object)\n",
    "* Example:\n",
    "    firstname = [\"Adele, Bob, Carie, John\"]\n",
    "* Map the list to obtain the names in the upper case \n",
    "* list(map(lambda x:x.upper(),firstname))"
   ]
  },
  {
   "cell_type": "markdown",
   "id": "98359009",
   "metadata": {},
   "source": [
    "* ### Filter\n",
    "Similar function, but it requires the function to look for a condition and then returns only those elements from the collection that satisfies the condition.\n",
    "\n",
    "* Data = [d1,d2.......,dn]\n",
    "* filter(f, data)"
   ]
  },
  {
   "cell_type": "markdown",
   "id": "5a143049",
   "metadata": {},
   "source": [
    "* ## Reduce "
   ]
  },
  {
   "cell_type": "markdown",
   "id": "03c8f83f",
   "metadata": {},
   "source": [
    "An operation that breaks down the entire process into pairwise operations and uses the result from each operation , with the successive element.\n",
    "\n",
    "* Function = f(x,y)\n",
    "* reduce(f,data):"
   ]
  },
  {
   "cell_type": "markdown",
   "id": "613b4704",
   "metadata": {},
   "source": [
    "# Map, Reduce & Filter"
   ]
  },
  {
   "cell_type": "code",
   "execution_count": null,
   "id": "900687fa",
   "metadata": {},
   "outputs": [],
   "source": [
    "# Area of a circle \n",
    "\n",
    "import math \n",
    "\n",
    "def area(r):\n",
    "    return math.pi*(r**2)\n",
    "\n",
    "radii = [1,2,3,4,5]\n",
    "areas = []\n",
    "for r in radii:\n",
    "    a = area(r)\n",
    "    areas.append(a)\n",
    "\n",
    "areas"
   ]
  },
  {
   "cell_type": "code",
   "execution_count": 5,
   "id": "1d310bb5",
   "metadata": {},
   "outputs": [
    {
     "data": {
      "text/plain": [
       "<map at 0x1f1bf7b3e20>"
      ]
     },
     "execution_count": 5,
     "metadata": {},
     "output_type": "execute_result"
    }
   ],
   "source": [
    "map(area, radii)"
   ]
  },
  {
   "cell_type": "code",
   "execution_count": null,
   "id": "1dbcb4d4",
   "metadata": {},
   "outputs": [],
   "source": [
    "list(map(area, radii))"
   ]
  },
  {
   "cell_type": "code",
   "execution_count": 10,
   "id": "e2584955",
   "metadata": {},
   "outputs": [
    {
     "data": {
      "text/plain": [
       "list"
      ]
     },
     "execution_count": 10,
     "metadata": {},
     "output_type": "execute_result"
    }
   ],
   "source": [
    "# Conversion from celcius scale to Farheneit scale\n",
    "\n",
    "temps = [(\"mumbai\", 35),(\"Jammu\", 45),(\"Karnataka\", 25),(\"Pune\", 17),(\"HongKong\", 16),(\"Tokyo\", 15)]\n",
    "type(temps)"
   ]
  },
  {
   "cell_type": "code",
   "execution_count": 13,
   "id": "7398dad5",
   "metadata": {},
   "outputs": [
    {
     "data": {
      "text/plain": [
       "[('mumbai', 95.0),\n",
       " ('Jammu', 113.0),\n",
       " ('Karnataka', 77.0),\n",
       " ('Pune', 62.6),\n",
       " ('HongKong', 60.8),\n",
       " ('Tokyo', 59.0)]"
      ]
     },
     "execution_count": 13,
     "metadata": {},
     "output_type": "execute_result"
    }
   ],
   "source": [
    "cel_to_f = lambda data: (data[0], (9/5)*data[1]+32)\n",
    "map(cel_to_f, temps)\n",
    "list(map(cel_to_f, temps))"
   ]
  },
  {
   "cell_type": "markdown",
   "id": "d79eba56",
   "metadata": {},
   "source": [
    "# Filter function "
   ]
  },
  {
   "cell_type": "code",
   "execution_count": 21,
   "id": "7a5e6e89",
   "metadata": {},
   "outputs": [
    {
     "data": {
      "text/plain": [
       "['Sohail', 'Neha', 'Muskaan']"
      ]
     },
     "execution_count": 21,
     "metadata": {},
     "output_type": "execute_result"
    }
   ],
   "source": [
    "# Best example of the filter function :\n",
    "\n",
    "name = [\"Sohail\", \"Neha\", 0, 0.0, \"\", \"Muskaan\"]\n",
    "filter(\n",
    "    None, name\n",
    ")  # Here None is for the function and name is for the variable name where the raw names are get stored\n",
    "list(filter(None, name))"
   ]
  },
  {
   "cell_type": "code",
   "execution_count": 15,
   "id": "67cbbd1b",
   "metadata": {},
   "outputs": [
    {
     "name": "stdout",
     "output_type": "stream",
     "text": [
      "16.476190476190474\n"
     ]
    }
   ],
   "source": [
    "# Filter function - filters out the data \n",
    "\n",
    "import statistics\n",
    "\n",
    "data = [1,2,3,4,5,6,7,8,9,10,51,0,5,4,5,65,4,4,94,5,54]\n",
    "avg = statistics.mean(data)\n",
    "print(avg)"
   ]
  },
  {
   "cell_type": "code",
   "execution_count": 16,
   "id": "05cf5010",
   "metadata": {},
   "outputs": [
    {
     "data": {
      "text/plain": [
       "<filter at 0x1f1bf8bd8a0>"
      ]
     },
     "execution_count": 16,
     "metadata": {},
     "output_type": "execute_result"
    }
   ],
   "source": [
    "filter(lambda x : x>avg, data)"
   ]
  },
  {
   "cell_type": "code",
   "execution_count": 17,
   "id": "21968768",
   "metadata": {},
   "outputs": [
    {
     "data": {
      "text/plain": [
       "[51, 65, 94, 54]"
      ]
     },
     "execution_count": 17,
     "metadata": {},
     "output_type": "execute_result"
    }
   ],
   "source": [
    "list(filter(lambda x : x>avg, data))"
   ]
  },
  {
   "cell_type": "code",
   "execution_count": 28,
   "id": "870a875b",
   "metadata": {},
   "outputs": [
    {
     "name": "stdout",
     "output_type": "stream",
     "text": [
      "['Sohailjatt', 'Namrita', 0, 0.0, '', 0.001, 'Namrita', 'Palakdeep']\n"
     ]
    },
    {
     "data": {
      "text/plain": [
       "['Sohailjatt', 'Namrita', 0.001, 'Namrita', 'Palakdeep']"
      ]
     },
     "execution_count": 28,
     "metadata": {},
     "output_type": "execute_result"
    }
   ],
   "source": [
    "names = [\"Sohailjatt\", \"Namrita\",0,0.0,\"\",0.001, \"Namrita\", \"Palakdeep\"]\n",
    "print(names)\n",
    "filter(None, names)\n",
    "list(filter(None, names))"
   ]
  },
  {
   "cell_type": "code",
   "execution_count": 31,
   "id": "228b1433",
   "metadata": {},
   "outputs": [
    {
     "data": {
      "text/plain": [
       "[12, 16, 21, 11, 5, 9, 11]"
      ]
     },
     "execution_count": 31,
     "metadata": {},
     "output_type": "execute_result"
    }
   ],
   "source": [
    "number = [12,16,21,0,0.0,\"\",11,5,9,11]\n",
    "filter(None, number)\n",
    "list(filter(None, number))\n"
   ]
  },
  {
   "cell_type": "markdown",
   "id": "9f7e8403",
   "metadata": {},
   "source": [
    "# Reduce function \n",
    "\n",
    "* syntax = reduce(f, data)"
   ]
  },
  {
   "cell_type": "code",
   "execution_count": null,
   "id": "b446b9df",
   "metadata": {},
   "outputs": [
    {
     "data": {
      "text/plain": [
       "88519495680"
      ]
     },
     "execution_count": 39,
     "metadata": {},
     "output_type": "execute_result"
    }
   ],
   "source": [
    "# Example of reduce function \n",
    "\n",
    "from functools import reduce\n",
    "numbers = [12,16,21,12,16,21,11,5,9,11]\n",
    "multiplier = lambda x, y: x*y\n",
    "reduce(multiplier, numbers)\n"
   ]
  },
  {
   "cell_type": "code",
   "execution_count": null,
   "id": "791925e4",
   "metadata": {},
   "outputs": [
    {
     "name": "stdout",
     "output_type": "stream",
     "text": [
      "120\n"
     ]
    }
   ],
   "source": [
    "data = [1,2,3,4,5]\n",
    "prev = data[0]\n",
    "\n",
    "for i in data:\n",
    "    i = i*prev\n",
    "    prev = i\n",
    "\n",
    "print(i)\n",
    "\n"
   ]
  }
 ],
 "metadata": {
  "kernelspec": {
   "display_name": "Python 3",
   "language": "python",
   "name": "python3"
  },
  "language_info": {
   "codemirror_mode": {
    "name": "ipython",
    "version": 3
   },
   "file_extension": ".py",
   "mimetype": "text/x-python",
   "name": "python",
   "nbconvert_exporter": "python",
   "pygments_lexer": "ipython3",
   "version": "3.13.1"
  }
 },
 "nbformat": 4,
 "nbformat_minor": 5
}
