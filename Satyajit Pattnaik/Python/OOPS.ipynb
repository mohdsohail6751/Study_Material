{
 "cells": [
  {
   "cell_type": "markdown",
   "id": "500a8713",
   "metadata": {},
   "source": [
    "# Object Oriented Programming in python "
   ]
  },
  {
   "cell_type": "markdown",
   "id": "d21163f7",
   "metadata": {},
   "source": []
  }
 ],
 "metadata": {
  "language_info": {
   "name": "python"
  }
 },
 "nbformat": 4,
 "nbformat_minor": 5
}
