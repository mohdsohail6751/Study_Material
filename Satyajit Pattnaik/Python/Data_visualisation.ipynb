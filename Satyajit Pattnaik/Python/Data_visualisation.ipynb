{
 "cells": [
  {
   "cell_type": "markdown",
   "id": "fcf906fa",
   "metadata": {},
   "source": [
    "# Data Visualization "
   ]
  },
  {
   "cell_type": "markdown",
   "id": "e0a46615",
   "metadata": {},
   "source": [
    "Giving visual context to information to help identify and infer trends, patterns, and outliers in the datasets."
   ]
  },
  {
   "cell_type": "markdown",
   "id": "b79112d2",
   "metadata": {},
   "source": [
    "we know that our main aim is to gather insights, to find insights and gather as much information as possible. What is the best way to showcase your insights to your higher management.\n",
    "To your clients, to make it look beautiful.\n",
    "\n",
    "Data visualization is used in that case. "
   ]
  },
  {
   "cell_type": "markdown",
   "id": "ad2dc8a8",
   "metadata": {},
   "source": [
    "When it comes to data visualization, there are various libraries in python that we use to perform the data visualization techniques.\n",
    "\n",
    "Matplotlib, Seaborn, Plotly are some of these libraries."
   ]
  },
  {
   "cell_type": "markdown",
   "id": "49ae2969",
   "metadata": {},
   "source": [
    "Now data visualization helps to bridge the gap between numbers and words"
   ]
  },
  {
   "cell_type": "markdown",
   "id": "d5382a88",
   "metadata": {},
   "source": [
    "## A picture is worth a thousand words.\n",
    "\n",
    "A complex idea can be conveyed with just a single still image,\n",
    "namely making it possible to absorb large amounts of data quickly."
   ]
  },
  {
   "cell_type": "markdown",
   "id": "fa859838",
   "metadata": {},
   "source": [
    "## Importance of Data Visualization \n",
    "\n",
    "* Data is only useful if we can learn from it \n",
    "* it delivers data with efficiency clarity and effectiveness\n",
    "* can identify patterns, \n",
    "EG:-\n",
    "  * Correlations\n",
    "  * Trends over time\n",
    "  * Frequency \n",
    "* Analyze large data sets and have data-driven decision management. \n",
    "\n"
   ]
  },
  {
   "cell_type": "markdown",
   "id": "921f163a",
   "metadata": {},
   "source": []
  }
 ],
 "metadata": {
  "language_info": {
   "name": "python"
  }
 },
 "nbformat": 4,
 "nbformat_minor": 5
}
