{
 "cells": [
  {
   "cell_type": "markdown",
   "id": "ca896e56",
   "metadata": {},
   "source": [
    "# NumPy essential details "
   ]
  },
  {
   "cell_type": "markdown",
   "id": "dcb27e6c",
   "metadata": {},
   "source": [
    "* Library used for computation and processing of single and multi-dimensional array of elements.\n",
    "* Smaller memory consumption and better runtime behavior \n",
    "* Installation Process :  pip install numpy -> import numpy as np\n",
    "* it is short for \" Numerical Python\n",
    "* it is used for computation and processing of single and multidimensional array of element.\n",
    "* Smaller memory consumption and better runtime behavior\n",
    "* Can be used to store data of different forms : 1-d,2-d,3-d and so on"
   ]
  },
  {
   "cell_type": "code",
   "execution_count": 1,
   "id": "b780c5c4",
   "metadata": {},
   "outputs": [
    {
     "name": "stdout",
     "output_type": "stream",
     "text": [
      "[20.1 20.4 12.3 43.5 54.4 23.5]\n",
      "[40.1 40.4 32.3 63.5 74.4 43.5]\n"
     ]
    }
   ],
   "source": [
    "# Example:\n",
    "import numpy as np\n",
    "values = [20.1,20.4,12.3,43.5,54.4,23.5]\n",
    "convert = np.array(values)\n",
    "print(convert)\n",
    "print(convert+20)"
   ]
  },
  {
   "cell_type": "markdown",
   "id": "7cf653d7",
   "metadata": {},
   "source": [
    "Example of 1-d, 2-d, and 3-d array\n",
    "* shape:(4,)\n",
    "* shape:(2,3)\n",
    "* shape:(4,3,2)"
   ]
  },
  {
   "cell_type": "markdown",
   "id": "2826584e",
   "metadata": {},
   "source": [
    "### Why do we use Numpy"
   ]
  },
  {
   "cell_type": "markdown",
   "id": "7e582de7",
   "metadata": {},
   "source": [
    "* Plain 'for-loop'\n",
    "* List comprehension\n",
    "* Map function\n",
    "* Numpy vectorize"
   ]
  },
  {
   "cell_type": "code",
   "execution_count": 2,
   "id": "49cacef2",
   "metadata": {},
   "outputs": [
    {
     "name": "stdout",
     "output_type": "stream",
     "text": [
      "[1 2 3]\n"
     ]
    }
   ],
   "source": [
    "## Practical part starts from here : -->\n",
    "\n",
    "import numpy as np\n",
    "\n",
    "\n",
    "# Creating an array\n",
    "\n",
    "a = np.array([1,2,3])\n",
    "print(a)"
   ]
  },
  {
   "cell_type": "code",
   "execution_count": 3,
   "id": "9c81000c",
   "metadata": {},
   "outputs": [
    {
     "data": {
      "text/plain": [
       "numpy.ndarray"
      ]
     },
     "execution_count": 3,
     "metadata": {},
     "output_type": "execute_result"
    }
   ],
   "source": [
    "type(a)"
   ]
  },
  {
   "cell_type": "code",
   "execution_count": 4,
   "id": "bb441657",
   "metadata": {},
   "outputs": [
    {
     "name": "stdout",
     "output_type": "stream",
     "text": [
      "[1. 2. 3.]\n",
      "['1' '2' '3']\n"
     ]
    }
   ],
   "source": [
    "a = np.array([1,2,3], dtype=float)# dtype = data type which is float in this list\n",
    "c = np.array([1,2,3], dtype=str)# dtype = data type which is string in this list\n",
    "print(a)\n",
    "print(c)"
   ]
  },
  {
   "cell_type": "code",
   "execution_count": null,
   "id": "52e24fd2",
   "metadata": {},
   "outputs": [
    {
     "name": "stdout",
     "output_type": "stream",
     "text": [
      "[[1 2 3]\n",
      " [4 5 6]]\n"
     ]
    },
    {
     "data": {
      "text/plain": [
       "2"
      ]
     },
     "execution_count": 31,
     "metadata": {},
     "output_type": "execute_result"
    }
   ],
   "source": [
    "b = np.array([[1,2,3],[4,5,6]])\n",
    "print(b)\n",
    "\n"
   ]
  },
  {
   "cell_type": "code",
   "execution_count": 32,
   "id": "ef430d74",
   "metadata": {},
   "outputs": [
    {
     "data": {
      "text/plain": [
       "2"
      ]
     },
     "execution_count": 32,
     "metadata": {},
     "output_type": "execute_result"
    }
   ],
   "source": [
    "len(b)"
   ]
  },
  {
   "cell_type": "code",
   "execution_count": 38,
   "id": "870a735f",
   "metadata": {},
   "outputs": [
    {
     "name": "stdout",
     "output_type": "stream",
     "text": [
      "[[[1 2 3]\n",
      "  [4 5 6]\n",
      "  [7 8 9]]]\n"
     ]
    }
   ],
   "source": [
    "b = np.array([[[1,2,3],[4,5,6],[7,8,9]]])\n",
    "print(b)"
   ]
  },
  {
   "cell_type": "code",
   "execution_count": 39,
   "id": "d9a8e7b6",
   "metadata": {},
   "outputs": [
    {
     "data": {
      "text/plain": [
       "3"
      ]
     },
     "execution_count": 39,
     "metadata": {},
     "output_type": "execute_result"
    }
   ],
   "source": [
    "# Getting dimensions of a numpy array\n",
    "b.ndim"
   ]
  },
  {
   "cell_type": "markdown",
   "id": "9eeeefb5",
   "metadata": {},
   "source": [
    "### Why Use NumPy\n",
    "* In Traditional Python Programming, we have lists that serve the purpose of arrays, but they are slow to process.\n",
    "* NumPy aims to provide an array object that is up to 50x faster than traditional Python lists.\n",
    "* The object in NumPy is called ndarray, it provides a lot of supporting functions that make working with ndarray very easy.\n",
    "* Arrays are very frequently used in data science, where speed and resources are very important."
   ]
  },
  {
   "cell_type": "code",
   "execution_count": 40,
   "id": "94cf1a12",
   "metadata": {},
   "outputs": [
    {
     "data": {
      "text/plain": [
       "(1, 3, 3)"
      ]
     },
     "execution_count": 40,
     "metadata": {},
     "output_type": "execute_result"
    }
   ],
   "source": [
    "# Get a shape of a numpy array\n",
    "\n",
    "b.shape"
   ]
  },
  {
   "cell_type": "code",
   "execution_count": 10,
   "id": "ec89a9da",
   "metadata": {},
   "outputs": [
    {
     "data": {
      "text/plain": [
       "dtype('int64')"
      ]
     },
     "execution_count": 10,
     "metadata": {},
     "output_type": "execute_result"
    }
   ],
   "source": [
    "# To find the datatype\n",
    "\n",
    "b.dtype"
   ]
  },
  {
   "cell_type": "markdown",
   "id": "047a99df",
   "metadata": {},
   "source": [
    "## Accessing/changing specific elements, rows & columns etc."
   ]
  },
  {
   "cell_type": "code",
   "execution_count": 11,
   "id": "f6d77927",
   "metadata": {},
   "outputs": [
    {
     "name": "stdout",
     "output_type": "stream",
     "text": [
      "[[ 1  2  3  4  5  6]\n",
      " [ 7  8  9 10 11 12]]\n"
     ]
    }
   ],
   "source": [
    "a1 = np.array([[1,2,3,4,5,6],[7,8,9,10,11,12]])\n",
    "print(a1)\n"
   ]
  },
  {
   "cell_type": "code",
   "execution_count": 12,
   "id": "fad08790",
   "metadata": {},
   "outputs": [
    {
     "data": {
      "text/plain": [
       "2"
      ]
     },
     "execution_count": 12,
     "metadata": {},
     "output_type": "execute_result"
    }
   ],
   "source": [
    "a1.ndim"
   ]
  },
  {
   "cell_type": "code",
   "execution_count": 13,
   "id": "47fa812b",
   "metadata": {},
   "outputs": [
    {
     "data": {
      "text/plain": [
       "(2, 6)"
      ]
     },
     "execution_count": 13,
     "metadata": {},
     "output_type": "execute_result"
    }
   ],
   "source": [
    "a1.shape  ## Here 2 are the outer elements of the array and 6 are the inner elements of the array \n"
   ]
  },
  {
   "cell_type": "code",
   "execution_count": 14,
   "id": "8093e818",
   "metadata": {},
   "outputs": [
    {
     "name": "stdout",
     "output_type": "stream",
     "text": [
      "4\n"
     ]
    }
   ],
   "source": [
    "print(a1[0,3])\n",
    "## Here 0 will be the 1st element of the outer array and \n",
    "# 3 is the position of the element which we want to print out \n"
   ]
  },
  {
   "cell_type": "code",
   "execution_count": 15,
   "id": "6f1e3931",
   "metadata": {},
   "outputs": [
    {
     "name": "stdout",
     "output_type": "stream",
     "text": [
      "[[ 1  2  3  4  5  6]\n",
      " [ 7  8  9 10 11 12]]\n"
     ]
    }
   ],
   "source": [
    "a1 = np.array([[1,2,3,4,5,6],[7,8,9,10,11,12]])\n",
    "print(a1)"
   ]
  },
  {
   "cell_type": "code",
   "execution_count": 41,
   "id": "25d74a9e",
   "metadata": {},
   "outputs": [
    {
     "name": "stdout",
     "output_type": "stream",
     "text": [
      "11\n"
     ]
    }
   ],
   "source": [
    "## Here if we want to print the 11 element from the array \n",
    "\n",
    "print(a1[1,4])"
   ]
  },
  {
   "cell_type": "code",
   "execution_count": 17,
   "id": "8b5465bf",
   "metadata": {},
   "outputs": [
    {
     "data": {
      "text/plain": [
       "array([1, 2, 3, 4, 5, 6])"
      ]
     },
     "execution_count": 17,
     "metadata": {},
     "output_type": "execute_result"
    }
   ],
   "source": [
    "## Getting a specific row from a numpy array\n",
    "a1[0,:]\n"
   ]
  },
  {
   "cell_type": "code",
   "execution_count": 18,
   "id": "a38a321d",
   "metadata": {},
   "outputs": [
    {
     "data": {
      "text/plain": [
       "array([2, 8])"
      ]
     },
     "execution_count": 18,
     "metadata": {},
     "output_type": "execute_result"
    }
   ],
   "source": [
    "## Getting a specific column from the numpy array\n",
    "a1[:,1]"
   ]
  },
  {
   "cell_type": "code",
   "execution_count": 19,
   "id": "aadfdeb4",
   "metadata": {},
   "outputs": [
    {
     "data": {
      "text/plain": [
       "array([[ 1,  2,  3,  4,  5,  6],\n",
       "       [ 7,  8,  9, 10, 11, 12]])"
      ]
     },
     "execution_count": 19,
     "metadata": {},
     "output_type": "execute_result"
    }
   ],
   "source": [
    "a1"
   ]
  },
  {
   "cell_type": "code",
   "execution_count": 20,
   "id": "2bb44bb9",
   "metadata": {},
   "outputs": [
    {
     "name": "stdout",
     "output_type": "stream",
     "text": [
      "12\n"
     ]
    }
   ],
   "source": [
    "# Accessing a specific element from the array : \n",
    "print(a1[1,5])"
   ]
  },
  {
   "cell_type": "code",
   "execution_count": 21,
   "id": "f9000d2b",
   "metadata": {},
   "outputs": [
    {
     "name": "stdout",
     "output_type": "stream",
     "text": [
      "[[ 1  2  3 40  5  6]\n",
      " [ 7  8  9 10 11 12]]\n"
     ]
    }
   ],
   "source": [
    "## I want to change the element from the array\n",
    "\n",
    "a1[0,3] = 40\n",
    "print(a1)"
   ]
  },
  {
   "cell_type": "code",
   "execution_count": 22,
   "id": "7249d140",
   "metadata": {},
   "outputs": [
    {
     "name": "stdout",
     "output_type": "stream",
     "text": [
      "[[ 1  2  3 40 50  6]\n",
      " [ 7  8  9 10 11 12]]\n"
     ]
    }
   ],
   "source": [
    "## Change the 5th column in 1st row to 50\n",
    "a1[0,4] = 50\n",
    "print(a1)"
   ]
  },
  {
   "cell_type": "markdown",
   "id": "c8d36d8f",
   "metadata": {},
   "source": [
    "##  Zeroes/Ones in NumPy"
   ]
  },
  {
   "cell_type": "markdown",
   "id": "6dab4c63",
   "metadata": {},
   "source": [
    "**Numpy.zeros** and **Numpy.ones** are tools in Python that can be used to create arrays of zeros and ones, respectively. To create an array with ones at and below the given diagonal and zeros elsewhere, use the numpy.tri() method in Python Numpy."
   ]
  },
  {
   "cell_type": "code",
   "execution_count": 23,
   "id": "40a37732",
   "metadata": {},
   "outputs": [
    {
     "name": "stdout",
     "output_type": "stream",
     "text": [
      "[[0 0 0]\n",
      " [0 0 0]]\n",
      "[[1. 1. 1. 1. 1.]\n",
      " [1. 1. 1. 1. 1.]]\n"
     ]
    }
   ],
   "source": [
    "## Example code of creating a zeroes array \n",
    "import numpy as np\n",
    "int_zeroes = np.zeros((2,3),dtype=int) # for the data type integer\n",
    "float_ones = np.ones((2,5),dtype=float) # for the data type float\n",
    "print(int_zeroes)\n",
    "print(float_ones)"
   ]
  },
  {
   "cell_type": "markdown",
   "id": "3aab881b",
   "metadata": {},
   "source": [
    "#### Why do we need to use zeroes and ones in numpy array in python \n",
    "\n",
    "* Initialization for Computations\n",
    "* * **numpy.zeros**: Creates an array filled with zeros. This is useful when you need a placeholder for computations or to initialize weights, biases, or matrices in algorithms.\n",
    "* * **numpy.ones**: Creates an array filled with ones. This is often used for scaling, normalization, or as a starting point for iterative algorithms."
   ]
  },
  {
   "cell_type": "code",
   "execution_count": 49,
   "id": "6685f7b6",
   "metadata": {},
   "outputs": [
    {
     "name": "stdout",
     "output_type": "stream",
     "text": [
      "[['s' 's' 's']\n",
      " ['s' 's' 's']\n",
      " ['s' 's' 's']]\n"
     ]
    }
   ],
   "source": [
    "vara = 'soh'\n",
    "full_array = np.full((3,3),vara, dtype='str' )\n",
    "print(full_array)"
   ]
  },
  {
   "cell_type": "code",
   "execution_count": null,
   "id": "e90cc492",
   "metadata": {},
   "outputs": [],
   "source": []
  },
  {
   "cell_type": "code",
   "execution_count": 51,
   "id": "248c2bb3",
   "metadata": {},
   "outputs": [
    {
     "name": "stdout",
     "output_type": "stream",
     "text": [
      "[[20 14 21]\n",
      " [25 17 32]\n",
      " [29 23 24]]\n"
     ]
    }
   ],
   "source": [
    "# If we want to create an random number numpy array \n",
    "\n",
    "# np.random.rand(4,4)\n",
    "print(np.random.randint(14,33, size=(3,3)))\n",
    "# Here 14 is the starting number and 33 is the ending number\n",
    "# and size will be 3 x 3 means 3 columns and 3 rows."
   ]
  },
  {
   "cell_type": "code",
   "execution_count": 56,
   "id": "fa6aa4ab",
   "metadata": {},
   "outputs": [
    {
     "data": {
      "text/plain": [
       "array([[1., 0., 0., 0., 0.],\n",
       "       [0., 1., 0., 0., 0.],\n",
       "       [0., 0., 1., 0., 0.],\n",
       "       [0., 0., 0., 1., 0.],\n",
       "       [0., 0., 0., 0., 1.]])"
      ]
     },
     "execution_count": 56,
     "metadata": {},
     "output_type": "execute_result"
    }
   ],
   "source": [
    "# identity function work on the basis of identity matrix \n",
    "'''\n",
    "[1., 0., 0., 0., 0.],\n",
    "[0., 1., 0., 0., 0.],\n",
    "[0., 0., 1., 0., 0.],\n",
    "[0., 0., 0., 1., 0.],\n",
    "[0., 0., 0., 0., 1.] Just like this \n",
    "\n",
    "'''\n",
    "np.identity(5)"
   ]
  },
  {
   "cell_type": "code",
   "execution_count": 59,
   "id": "2bf133f7",
   "metadata": {},
   "outputs": [
    {
     "data": {
      "text/plain": [
       "(5, 6)"
      ]
     },
     "execution_count": 59,
     "metadata": {},
     "output_type": "execute_result"
    }
   ],
   "source": [
    "a = np.array([[1,2,3,4,5,6],\n",
    "              [10,20,30,40,50,60],\n",
    "              [12,22,32,42,52,62],\n",
    "              [11,21,31,41,51,61],\n",
    "              [13,24,34,44,54,64]])\n",
    "\n",
    "\n",
    "a.ndim\n",
    "a.shape"
   ]
  },
  {
   "cell_type": "code",
   "execution_count": 62,
   "id": "a5701589",
   "metadata": {},
   "outputs": [
    {
     "data": {
      "text/plain": [
       "array([[ 2,  3,  4,  5,  6],\n",
       "       [20, 30, 40, 50, 60],\n",
       "       [22, 32, 42, 52, 62]])"
      ]
     },
     "execution_count": 62,
     "metadata": {},
     "output_type": "execute_result"
    }
   ],
   "source": [
    "a[ :3, -5:]"
   ]
  },
  {
   "cell_type": "markdown",
   "id": "d818d0e1",
   "metadata": {},
   "source": [
    "#### Question #2\n",
    "* Given a positive number 'n' greater than 2, create a NumPy array of size (nxn) with all zeroes and ones such that the ones make a shape of \"+\"\n"
   ]
  },
  {
   "cell_type": "code",
   "execution_count": 63,
   "id": "60ea2026",
   "metadata": {},
   "outputs": [
    {
     "name": "stdout",
     "output_type": "stream",
     "text": [
      "[[0 0 0 0 0]\n",
      " [0 0 0 0 0]\n",
      " [0 0 0 0 0]\n",
      " [0 0 0 0 0]\n",
      " [0 0 0 0 0]]\n"
     ]
    }
   ],
   "source": [
    "import numpy as np\n",
    "n = int(input(\"Enter a number : \"))\n",
    "z = np.zeros((n,n),dtype='int')\n",
    "print(z)\n",
    "\n"
   ]
  },
  {
   "cell_type": "code",
   "execution_count": null,
   "id": "4fdd5fa2",
   "metadata": {},
   "outputs": [
    {
     "name": "stdout",
     "output_type": "stream",
     "text": [
      "[[0 0 1 0 0]\n",
      " [0 0 1 0 0]\n",
      " [1 1 1 1 1]\n",
      " [0 0 1 0 0]\n",
      " [0 0 1 0 0]]\n"
     ]
    }
   ],
   "source": [
    "# make the middle row and column all 1s\n",
    "\n",
    "z[n//2,:] = 1\n",
    "z[:,n//2] = 1\n",
    "\n",
    "print(z)"
   ]
  },
  {
   "cell_type": "markdown",
   "id": "1cb71fbc",
   "metadata": {},
   "source": [
    "### Some Arithmetic Operations with NumPy - Maths + Stats\n"
   ]
  },
  {
   "cell_type": "code",
   "execution_count": null,
   "id": "f8fc7cc2",
   "metadata": {},
   "outputs": [
    {
     "data": {
      "text/plain": [
       "array([1, 2, 3, 4])"
      ]
     },
     "execution_count": 47,
     "metadata": {},
     "output_type": "execute_result"
    }
   ],
   "source": [
    "a = np.array([1,2,3,4])\n",
    "a"
   ]
  },
  {
   "cell_type": "code",
   "execution_count": null,
   "id": "3db6b7bc",
   "metadata": {},
   "outputs": [
    {
     "data": {
      "text/plain": [
       "array([3, 4, 5, 6])"
      ]
     },
     "execution_count": 49,
     "metadata": {},
     "output_type": "execute_result"
    }
   ],
   "source": [
    "a + 2\n",
    "# after adding + 2 this will add this value to the whole\n",
    "# numpy list which we have been created "
   ]
  },
  {
   "cell_type": "code",
   "execution_count": null,
   "id": "9dd4990d",
   "metadata": {},
   "outputs": [
    {
     "data": {
      "text/plain": [
       "array([0, 1, 1, 2])"
      ]
     },
     "execution_count": 52,
     "metadata": {},
     "output_type": "execute_result"
    }
   ],
   "source": [
    "a // 2"
   ]
  },
  {
   "cell_type": "code",
   "execution_count": null,
   "id": "8eaf9e63",
   "metadata": {},
   "outputs": [
    {
     "data": {
      "text/plain": [
       "np.int64(1)"
      ]
     },
     "execution_count": 58,
     "metadata": {},
     "output_type": "execute_result"
    }
   ],
   "source": [
    "# for checking the minimum value in the numpy array \n",
    "\n",
    "# a.min()  OR \n",
    "np.min(a)"
   ]
  },
  {
   "cell_type": "code",
   "execution_count": null,
   "id": "73b2dca2",
   "metadata": {},
   "outputs": [
    {
     "data": {
      "text/plain": [
       "np.int64(4)"
      ]
     },
     "execution_count": 60,
     "metadata": {},
     "output_type": "execute_result"
    }
   ],
   "source": [
    "# for checking the maximum value in the numpy array\n",
    "# a.max()  OR\n",
    "np.max(a)"
   ]
  },
  {
   "cell_type": "code",
   "execution_count": null,
   "id": "d5122cd0",
   "metadata": {},
   "outputs": [
    {
     "data": {
      "text/plain": [
       "np.float64(2.5)"
      ]
     },
     "execution_count": 62,
     "metadata": {},
     "output_type": "execute_result"
    }
   ],
   "source": [
    "# for checking the mean value in the numpy array \n",
    "\n",
    "# a.mean()  OR \n",
    "np.mean(a)"
   ]
  },
  {
   "cell_type": "code",
   "execution_count": null,
   "id": "6f715566",
   "metadata": {},
   "outputs": [],
   "source": []
  }
 ],
 "metadata": {
  "kernelspec": {
   "display_name": "Python 3",
   "language": "python",
   "name": "python3"
  },
  "language_info": {
   "codemirror_mode": {
    "name": "ipython",
    "version": 3
   },
   "file_extension": ".py",
   "mimetype": "text/x-python",
   "name": "python",
   "nbconvert_exporter": "python",
   "pygments_lexer": "ipython3",
   "version": "3.13.1"
  }
 },
 "nbformat": 4,
 "nbformat_minor": 5
}
