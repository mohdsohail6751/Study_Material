{
 "cells": [
  {
   "cell_type": "markdown",
   "id": "f4104e0c",
   "metadata": {},
   "source": [
    "# Control structures in python"
   ]
  },
  {
   "cell_type": "markdown",
   "id": "4e2797b0",
   "metadata": {},
   "source": [
    "* ## Control structure\n",
    "* Control structures are the blocks that analyze variables and choose directions in which to go based on given parameters."
   ]
  },
  {
   "cell_type": "markdown",
   "id": "cabf93e3",
   "metadata": {},
   "source": [
    "* ## Binary Operators\n",
    "* works with 2 operands\n",
    "* Operand can be: a+b --> where a , b are two operands and a+3, where a is an operand,and 3 is a variable "
   ]
  },
  {
   "cell_type": "markdown",
   "id": "551b19a9",
   "metadata": {},
   "source": [
    "* ### Relational Operators\n",
    "* type of binary operator\n",
    "* compares the values on either side of the operator and returns an boolean value as True or False."
   ]
  },
  {
   "cell_type": "markdown",
   "id": "d4f2ef8c",
   "metadata": {},
   "source": [
    "* ## Equal to operator "
   ]
  },
  {
   "cell_type": "code",
   "execution_count": 5,
   "id": "711c0f23",
   "metadata": {},
   "outputs": [
    {
     "data": {
      "text/plain": [
       "list"
      ]
     },
     "execution_count": 5,
     "metadata": {},
     "output_type": "execute_result"
    }
   ],
   "source": [
    "a = [1,2,30]\n",
    "type(a)"
   ]
  },
  {
   "cell_type": "code",
   "execution_count": null,
   "id": "e3141c24",
   "metadata": {},
   "outputs": [
    {
     "data": {
      "text/plain": [
       "True"
      ]
     },
     "execution_count": 4,
     "metadata": {},
     "output_type": "execute_result"
    }
   ],
   "source": [
    "12 == 12\n"
   ]
  },
  {
   "cell_type": "code",
   "execution_count": null,
   "id": "d40bef80",
   "metadata": {},
   "outputs": [],
   "source": [
    "# Alert !!!\n",
    "\n",
    "# = is an assignment operator, to assign value of an expression on right to a variable on left"
   ]
  },
  {
   "cell_type": "code",
   "execution_count": 7,
   "id": "feab67cc",
   "metadata": {},
   "outputs": [
    {
     "data": {
      "text/plain": [
       "False"
      ]
     },
     "execution_count": 7,
     "metadata": {},
     "output_type": "execute_result"
    }
   ],
   "source": [
    "10 == 5"
   ]
  },
  {
   "cell_type": "code",
   "execution_count": 8,
   "id": "c23e5f09",
   "metadata": {},
   "outputs": [
    {
     "data": {
      "text/plain": [
       "True"
      ]
     },
     "execution_count": 8,
     "metadata": {},
     "output_type": "execute_result"
    }
   ],
   "source": [
    "10 != 5"
   ]
  }
 ],
 "metadata": {
  "kernelspec": {
   "display_name": "Python 3",
   "language": "python",
   "name": "python3"
  },
  "language_info": {
   "codemirror_mode": {
    "name": "ipython",
    "version": 3
   },
   "file_extension": ".py",
   "mimetype": "text/x-python",
   "name": "python",
   "nbconvert_exporter": "python",
   "pygments_lexer": "ipython3",
   "version": "3.13.1"
  }
 },
 "nbformat": 4,
 "nbformat_minor": 5
}
