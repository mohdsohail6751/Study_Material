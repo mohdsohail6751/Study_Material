{
 "cells": [
  {
   "cell_type": "markdown",
   "id": "82752755",
   "metadata": {},
   "source": [
    "# File Handling in python "
   ]
  },
  {
   "cell_type": "markdown",
   "id": "23ce8425",
   "metadata": {},
   "source": [
    "* Basic functions and methods: open(), read(), close()\n",
    "* file object = open(file_name[,access_mode][,buffering])\n",
    "* fileopen = open(\"filename\",\"r\")\n",
    "* fileopen.close()\n",
    "* fileopen.read()\n",
    "* fileopen.readline()\n",
    "* fileopen.write(\"Welcome to the class\")\n",
    "\n"
   ]
  },
  {
   "cell_type": "markdown",
   "id": "62c77cea",
   "metadata": {},
   "source": [
    "# File handling in python code :"
   ]
  },
  {
   "cell_type": "markdown",
   "id": "3b017b03",
   "metadata": {},
   "source": [
    "### Reading a file "
   ]
  },
  {
   "cell_type": "code",
   "execution_count": 5,
   "id": "decbd288",
   "metadata": {},
   "outputs": [
    {
     "name": "stdout",
     "output_type": "stream",
     "text": [
      "Hello this is sohail here i am the \n",
      "\n",
      "final year student from the b tech department \n",
      "\n",
      "in the stream of computer science \n"
     ]
    }
   ],
   "source": [
    "# Basic file handling code here : \n",
    "\n",
    "file = open('index.txt','r')\n",
    "for line in file:\n",
    "    print(line)"
   ]
  },
  {
   "cell_type": "code",
   "execution_count": 9,
   "id": "7056d4d0",
   "metadata": {},
   "outputs": [
    {
     "name": "stdout",
     "output_type": "stream",
     "text": [
      "Hello this is sohail here i am the \n",
      "final year student from the b tech department \n",
      "in the stream of computer science \n"
     ]
    }
   ],
   "source": [
    "file = open('index.txt','r')\n",
    "print(file.read())"
   ]
  },
  {
   "cell_type": "code",
   "execution_count": 10,
   "id": "8b1d4809",
   "metadata": {},
   "outputs": [
    {
     "name": "stdout",
     "output_type": "stream",
     "text": [
      "Hello this is sohail here i am the \n",
      "\n"
     ]
    }
   ],
   "source": [
    "# this readline method only read the first line \n",
    "\n",
    "file = open('index.txt','r')\n",
    "print(file.readline())"
   ]
  },
  {
   "cell_type": "markdown",
   "id": "46a6978c",
   "metadata": {},
   "source": [
    "### Writing a file "
   ]
  },
  {
   "cell_type": "code",
   "execution_count": 23,
   "id": "16f0cd5c",
   "metadata": {},
   "outputs": [],
   "source": [
    "file = open('index.txt','w')\n",
    "file.write(\"this is palakdeep here \")\n",
    "file.write(\"\\n\")\n",
    "file.write(\"i am the prefinal year student of b tech\")\n",
    "file.close()\n"
   ]
  },
  {
   "cell_type": "code",
   "execution_count": 24,
   "id": "fb9e25c8",
   "metadata": {},
   "outputs": [
    {
     "name": "stdout",
     "output_type": "stream",
     "text": [
      "this is palakdeep here \n",
      "i am the prefinal year student of b tech\n"
     ]
    }
   ],
   "source": [
    "file = open('index.txt','r')\n",
    "print(file.read())"
   ]
  },
  {
   "cell_type": "markdown",
   "id": "1c29259f",
   "metadata": {},
   "source": [
    "### Append operation "
   ]
  },
  {
   "cell_type": "code",
   "execution_count": 25,
   "id": "dde17a0f",
   "metadata": {},
   "outputs": [],
   "source": [
    "with open('index.txt','a') as file:\n",
    "    file.write(\"\\n\")\n",
    "    file.write(\"This is the new write operation\")"
   ]
  },
  {
   "cell_type": "code",
   "execution_count": 26,
   "id": "2c7004ce",
   "metadata": {},
   "outputs": [],
   "source": [
    "file = open('index.txt','r')"
   ]
  },
  {
   "cell_type": "code",
   "execution_count": 27,
   "id": "537f10ab",
   "metadata": {},
   "outputs": [
    {
     "name": "stdout",
     "output_type": "stream",
     "text": [
      "this is palakdeep here \n",
      "\n",
      "i am the prefinal year student of b tech\n",
      "\n",
      "This is the new write operation\n"
     ]
    }
   ],
   "source": [
    "for line in file:\n",
    "    print(line)"
   ]
  },
  {
   "cell_type": "markdown",
   "id": "1620634c",
   "metadata": {},
   "source": [
    "### \\n opertion"
   ]
  },
  {
   "cell_type": "code",
   "execution_count": 28,
   "id": "b42a3620",
   "metadata": {},
   "outputs": [],
   "source": [
    "file = open('index.txt','w')\n",
    "file.write(\"this is palakdeep here \")\n",
    "file.write(\"\\n\")\n",
    "file.write(\"i am the prefinal year student of b tech\")\n",
    "file.close()"
   ]
  },
  {
   "cell_type": "code",
   "execution_count": 29,
   "id": "1217f7fd",
   "metadata": {},
   "outputs": [
    {
     "name": "stdout",
     "output_type": "stream",
     "text": [
      "this is palakdeep here \n",
      "i am the prefinal year student of b tech\n"
     ]
    }
   ],
   "source": [
    "file = open('index.txt','r')\n",
    "print(file.read())"
   ]
  },
  {
   "cell_type": "code",
   "execution_count": 31,
   "id": "db747062",
   "metadata": {},
   "outputs": [],
   "source": [
    "with open('index.txt', 'a+') as file:\n",
    "    file.write(\"\\n\")\n",
    "    file.write(\"next line in the palak's file \")"
   ]
  },
  {
   "cell_type": "code",
   "execution_count": 32,
   "id": "a83b8322",
   "metadata": {},
   "outputs": [
    {
     "name": "stdout",
     "output_type": "stream",
     "text": [
      "this is palakdeep here \n",
      "\n",
      "i am the prefinal year student of b tech\n",
      "\n",
      "next line in the palak's file \n"
     ]
    }
   ],
   "source": [
    "file = open('index.txt','r')\n",
    "for line in file:\n",
    "    print(line)"
   ]
  },
  {
   "cell_type": "markdown",
   "id": "2a200ae6",
   "metadata": {},
   "source": [
    "## Reading files using pandas library"
   ]
  },
  {
   "cell_type": "code",
   "execution_count": null,
   "id": "fda80d18",
   "metadata": {},
   "outputs": [
    {
     "name": "stdout",
     "output_type": "stream",
     "text": [
      "                    this is palakdeep here \n",
      "0  i am the prefinal year student of b tech\n",
      "1            next line in the palak's file \n"
     ]
    }
   ],
   "source": [
    "# Reading the txt file using pandas library\n",
    "\n",
    "import pandas as pd\n",
    "df = pd.read_csv('index.txt')\n",
    "print(df)"
   ]
  },
  {
   "cell_type": "code",
   "execution_count": 36,
   "id": "e3fd2164",
   "metadata": {},
   "outputs": [
    {
     "name": "stdout",
     "output_type": "stream",
     "text": [
      "   Index      Customer Id First Name Last Name  \\\n",
      "0      1  DD37Cf93aecA6Dc     Sheryl    Baxter   \n",
      "1      2  1Ef7b82A4CAAD10    Preston    Lozano   \n",
      "2      3  6F94879bDAfE5a6        Roy     Berry   \n",
      "3      4  5Cef8BFA16c5e3c      Linda     Olsen   \n",
      "4      5  053d585Ab6b3159     Joanna    Bender   \n",
      "\n",
      "                           Company               City  \\\n",
      "0                  Rasmussen Group       East Leonard   \n",
      "1                      Vega-Gentry  East Jimmychester   \n",
      "2                    Murillo-Perry      Isabelborough   \n",
      "3  Dominguez, Mcmillan and Donovan         Bensonview   \n",
      "4         Martin, Lang and Andrade     West Priscilla   \n",
      "\n",
      "                      Country                 Phone 1                Phone 2  \\\n",
      "0                       Chile            229.077.5154       397.884.0519x718   \n",
      "1                    Djibouti              5153435776       686-620-1820x944   \n",
      "2         Antigua and Barbuda         +1-539-402-0259    (496)978-3969x58947   \n",
      "3          Dominican Republic  001-808-617-6467x12895        +1-813-324-8756   \n",
      "4  Slovakia (Slovak Republic)  001-234-203-0635x76146  001-199-446-3860x3486   \n",
      "\n",
      "                         Email Subscription Date                      Website  \n",
      "0     zunigavanessa@smith.info        2020-08-24   http://www.stephenson.com/  \n",
      "1              vmata@colon.com        2021-04-23        http://www.hobbs.com/  \n",
      "2          beckycarr@hogan.com        2020-03-25     http://www.lawrence.com/  \n",
      "3  stanleyblackwell@benson.org        2020-06-02   http://www.good-lyons.com/  \n",
      "4      colinalvarado@miles.net        2021-04-17  https://goodwin-ingram.com/  \n"
     ]
    }
   ],
   "source": [
    "# Reading the csv file using pandas library\n",
    "\n",
    "df = pd.read_csv('customers-100.csv')\n",
    "print(df.head())"
   ]
  }
 ],
 "metadata": {
  "kernelspec": {
   "display_name": "Python 3",
   "language": "python",
   "name": "python3"
  },
  "language_info": {
   "codemirror_mode": {
    "name": "ipython",
    "version": 3
   },
   "file_extension": ".py",
   "mimetype": "text/x-python",
   "name": "python",
   "nbconvert_exporter": "python",
   "pygments_lexer": "ipython3",
   "version": "3.13.1"
  }
 },
 "nbformat": 4,
 "nbformat_minor": 5
}
