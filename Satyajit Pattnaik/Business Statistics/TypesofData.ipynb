{
 "cells": [
  {
   "cell_type": "markdown",
   "id": "31333dab",
   "metadata": {},
   "source": [
    "## Types of Data and statistical Analysis"
   ]
  },
  {
   "cell_type": "markdown",
   "id": "d770e909",
   "metadata": {},
   "source": [
    "#### Agenda \n",
    "\n",
    "    * Types of Statistics \n",
    "    * Descriptive Statistics\n",
    "    * Inferential Statistics\n",
    "    * Types of Data"
   ]
  },
  {
   "cell_type": "markdown",
   "id": "95920ccf",
   "metadata": {},
   "source": [
    "# Descriptive Statistics \n",
    "\n",
    "* Descriptive statistics summarizes or describes the characteristics of a data set.\n",
    "\n",
    "* Descriptive statistics consists of three basic categories of measures: measures of central tendency, measure of variability(or spread), and frequency distribution.\n",
    "\n",
    "* Measure of central tendency describe the center of the data set(mean, median, mode).\n",
    "\n",
    "* Measures of variability describe the dispersion of the data set (variance, standard deviation)\n",
    "\n",
    "* Measures of frequency distribution describe the occurrence of data within the data set(count)"
   ]
  },
  {
   "cell_type": "markdown",
   "id": "8f989a95",
   "metadata": {},
   "source": [
    "### Mean in short\n",
    "\n",
    "it is a kind of average of a sample population data \n",
    "\n",
    "formula = sum of total values/number of values \n",
    "\n",
    "eg = Age [10,20,30,40,50]\n",
    "\n",
    "so the mean of age = 10+20+30+40+50/5 = 150/5 = 30"
   ]
  },
  {
   "cell_type": "markdown",
   "id": "a1e1435a",
   "metadata": {},
   "source": [
    "### Median in short\n",
    "\n",
    "it is used to find the middle number from the data\n",
    "\n",
    "eg = x = [1,2,3,4,5] here 3 is the middle value \n",
    "\n",
    "eg = y = [1,2,3,4,5,6] now here we have six value we have 2 middle values after this we have to find the average of the both number that number will be the median value\n",
    "\n"
   ]
  },
  {
   "cell_type": "markdown",
   "id": "b39277b8",
   "metadata": {},
   "source": [
    "### Mode in short\n",
    "\n",
    "it is mostly used in categorical data. it refer to the maximum number of occurrences in a list.\n",
    "\n",
    "eg = x = [10,25,15,25,35]\n",
    "\n",
    "Here the mode is 25 because it has more occurrence than any other number."
   ]
  },
  {
   "cell_type": "markdown",
   "id": "98e8caf6",
   "metadata": {},
   "source": [
    "# Inferential Statistics "
   ]
  }
 ],
 "metadata": {
  "language_info": {
   "name": "python"
  }
 },
 "nbformat": 4,
 "nbformat_minor": 5
}
