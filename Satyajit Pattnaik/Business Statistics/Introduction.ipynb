{
 "cells": [
  {
   "cell_type": "markdown",
   "id": "cd3c7f15",
   "metadata": {},
   "source": [
    "## Introduction of Statistics "
   ]
  },
  {
   "cell_type": "markdown",
   "id": "1277eff9",
   "metadata": {},
   "source": [
    "* Basically, the statistical analysis is meant to collect and study the information available in large quantities.\n",
    "\n",
    "* Statistics is a branch of mathematics, where computation is done over a bulk of data using charts, tables, graphs, etc.\n",
    "\n",
    "* The data collected for analysis here is called measurements. Now, if we have to measure the data based on a scenario, a sample is taken out of a population.\n",
    "\n",
    "* Then the analysis or calculation is done for the following measurements."
   ]
  }
 ],
 "metadata": {
  "language_info": {
   "name": "python"
  }
 },
 "nbformat": 4,
 "nbformat_minor": 5
}
